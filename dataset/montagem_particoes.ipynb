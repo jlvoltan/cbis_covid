{
 "cells": [
  {
   "cell_type": "markdown",
   "metadata": {
    "id": "Bq5Ww7tNT7d-"
   },
   "source": [
    "# Montagem das partições"
   ]
  },
  {
   "cell_type": "code",
   "execution_count": 36,
   "metadata": {
    "id": "GNJ44asUSkDr"
   },
   "outputs": [],
   "source": [
    "import random"
   ]
  },
  {
   "cell_type": "code",
   "execution_count": 37,
   "metadata": {
    "id": "3ciZq6c7UCMm"
   },
   "outputs": [],
   "source": [
    "# Lista que armazena o nome das 70 pastas\n",
    "pastas = [ '00000', '01000', '02000', '03000', '04000', '05000', '06000', '07000', '08000' , '09000' , '10000' , '11000' , '12000' , '13000' , '14000' , '15000' , '16000' , '17000' , '18000' , '19000' , '20000' , '21000', '22000' , '23000' , '24000' , '25000' , '26000' , '27000' , '28000' , '29000' , '30000' , '31000' , '32000' , '33000' , '34000' , '35000' , '36000' , '37000' , '38000' , '39000' , '40000' , '41000' , '42000' , '43000' , '44000' , '45000' , '46000' , '47000' , '48000' , '49000' , '50000' , '51000' , '52000' , '53000' , '54000' , '55000' , '56000' , '57000' , '58000' , '59000' , '60000' , '61000' , '62000' , '63000' , '64000', '65000' , '66000' , '67000' , '68000',  '69000']"
   ]
  },
  {
   "cell_type": "markdown",
   "metadata": {},
   "source": [
    "- Faremos o sorteio de 8 pastas por classe para o treinamento e 2 pastas para o teste"
   ]
  },
  {
   "cell_type": "markdown",
   "metadata": {
    "id": "W8C24sqNdCqs"
   },
   "source": [
    "- Sorteio das pastas da classe 1"
   ]
  },
  {
   "cell_type": "code",
   "execution_count": 56,
   "metadata": {
    "colab": {
     "base_uri": "https://localhost:8080/"
    },
    "id": "TFOgaegDZq7F",
    "outputId": "e70dcdc9-3e1e-4bc7-cd15-9db3d8b7c8d2"
   },
   "outputs": [
    {
     "data": {
      "text/plain": [
       "[9, 12, 15, 57, 33, 19, 32, 46, 4, 24]"
      ]
     },
     "execution_count": 56,
     "metadata": {},
     "output_type": "execute_result"
    }
   ],
   "source": [
    "classe_1 = random.sample(range(0,70), 10)\n",
    "classe_1"
   ]
  },
  {
   "cell_type": "code",
   "execution_count": 57,
   "metadata": {},
   "outputs": [],
   "source": [
    "classe_1.sort()"
   ]
  },
  {
   "cell_type": "code",
   "execution_count": 58,
   "metadata": {},
   "outputs": [
    {
     "name": "stdout",
     "output_type": "stream",
     "text": [
      "04000\n",
      "09000\n",
      "12000\n",
      "15000\n",
      "19000\n",
      "24000\n",
      "32000\n",
      "33000\n",
      "46000\n",
      "57000\n"
     ]
    }
   ],
   "source": [
    "for i in classe_1: print(pastas[i])"
   ]
  },
  {
   "cell_type": "markdown",
   "metadata": {
    "id": "pqkP3aj7dG9H"
   },
   "source": [
    "- Sorteio das pastas da classe 2"
   ]
  },
  {
   "cell_type": "code",
   "execution_count": 59,
   "metadata": {
    "colab": {
     "base_uri": "https://localhost:8080/"
    },
    "id": "lF7BHrv6dWiM",
    "outputId": "e6550723-7224-44ac-8955-da371709d858"
   },
   "outputs": [
    {
     "data": {
      "text/plain": [
       "[35, 33, 3, 26, 49, 53, 23, 42, 63, 13]"
      ]
     },
     "execution_count": 59,
     "metadata": {},
     "output_type": "execute_result"
    }
   ],
   "source": [
    "classe_2 = random.sample(range(0,70), 10)\n",
    "classe_2"
   ]
  },
  {
   "cell_type": "code",
   "execution_count": 60,
   "metadata": {},
   "outputs": [],
   "source": [
    "classe_2.sort()"
   ]
  },
  {
   "cell_type": "code",
   "execution_count": 61,
   "metadata": {
    "colab": {
     "base_uri": "https://localhost:8080/"
    },
    "id": "w2cnEvdOd9ih",
    "outputId": "d9ca4667-3c16-4f7f-f528-164bb9c1b2fc"
   },
   "outputs": [
    {
     "name": "stdout",
     "output_type": "stream",
     "text": [
      "03000\n",
      "13000\n",
      "23000\n",
      "26000\n",
      "33000\n",
      "35000\n",
      "42000\n",
      "49000\n",
      "53000\n",
      "63000\n"
     ]
    }
   ],
   "source": [
    "for i in classe_2: print(pastas[i])"
   ]
  },
  {
   "cell_type": "markdown",
   "metadata": {
    "id": "GBZxnv3VdIZh"
   },
   "source": [
    "- Sorteio das pastas da classe 3"
   ]
  },
  {
   "cell_type": "code",
   "execution_count": 62,
   "metadata": {
    "colab": {
     "base_uri": "https://localhost:8080/"
    },
    "id": "qwmwVhsWdHtl",
    "outputId": "fca5b81a-7589-40a1-dbb8-e3b49f0f09ba"
   },
   "outputs": [
    {
     "data": {
      "text/plain": [
       "[23, 19, 0, 17, 33, 21, 32, 25, 18, 61]"
      ]
     },
     "execution_count": 62,
     "metadata": {},
     "output_type": "execute_result"
    }
   ],
   "source": [
    "classe_3 = random.sample(range(0,70), 10)\n",
    "classe_3"
   ]
  },
  {
   "cell_type": "code",
   "execution_count": 63,
   "metadata": {},
   "outputs": [],
   "source": [
    "classe_3.sort()"
   ]
  },
  {
   "cell_type": "code",
   "execution_count": 64,
   "metadata": {
    "colab": {
     "base_uri": "https://localhost:8080/"
    },
    "id": "2JZnoydMdbaW",
    "outputId": "346c79f2-4671-40b4-fb4b-3e9dcd20f4b6"
   },
   "outputs": [
    {
     "name": "stdout",
     "output_type": "stream",
     "text": [
      "00000\n",
      "17000\n",
      "18000\n",
      "19000\n",
      "21000\n",
      "23000\n",
      "25000\n",
      "32000\n",
      "33000\n",
      "61000\n"
     ]
    }
   ],
   "source": [
    "for i in classe_3: print(pastas[i])"
   ]
  },
  {
   "cell_type": "code",
   "execution_count": null,
   "metadata": {},
   "outputs": [],
   "source": []
  }
 ],
 "metadata": {
  "colab": {
   "name": "1-montagem_particoes.ipynb",
   "provenance": []
  },
  "kernelspec": {
   "display_name": "Python 3",
   "language": "python",
   "name": "python3"
  },
  "language_info": {
   "codemirror_mode": {
    "name": "ipython",
    "version": 3
   },
   "file_extension": ".py",
   "mimetype": "text/x-python",
   "name": "python",
   "nbconvert_exporter": "python",
   "pygments_lexer": "ipython3",
   "version": "3.8.5"
  }
 },
 "nbformat": 4,
 "nbformat_minor": 1
}
