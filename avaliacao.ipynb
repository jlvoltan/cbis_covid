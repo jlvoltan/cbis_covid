{
 "cells": [
  {
   "cell_type": "markdown",
   "metadata": {},
   "source": [
    "# Avaliação"
   ]
  },
  {
   "cell_type": "code",
   "execution_count": null,
   "metadata": {},
   "outputs": [],
   "source": [
    "# Criando o dataframe da Matriz \n",
    "Matriz = pd.DataFrame(np.zeros(9).reshape((3, 3)),\n",
    "                    index=['sem_r', 'incorreta_r', 'correta_r'],\n",
    "                    columns=['sem_p', 'incorreta_p', 'correta_p'])\n",
    "Matriz   \n",
    "#Classe predita p\n",
    "#Classe real r\n",
    "    \n",
    "# Classe 1 - sem:\n",
    "# Classe 2 - incorreta:\n",
    "# Classe 3 - correta:"
   ]
  },
  {
   "cell_type": "code",
   "execution_count": null,
   "metadata": {},
   "outputs": [],
   "source": [
    "def compara(x,Matriz):\n",
    "    if (x['real']=='sem' and  x['predito']=='sem'):\n",
    "        Matriz.iloc[0,0]=Matriz.iloc[0,0]+1\n",
    "        return \n",
    "    if (x['real']=='incorreta' and  x['predito']=='sem'):\n",
    "        Matriz.iloc[1,0]=Matriz.iloc[1,0]+1\n",
    "        return \n",
    "    if (x['real']=='correta' and  x['predito']=='sem'):\n",
    "        Matriz.iloc[2,0]=Matriz.iloc[2,0]+1\n",
    "        return \n",
    "    if (x['real']=='sem' and  x['predito']=='incorreta'):\n",
    "        Matriz.iloc[0,1]=Matriz.iloc[0,1]+1\n",
    "        return \n",
    "    if (x['real']=='incorreta' and  x['predito']=='incorreta'):\n",
    "        Matriz.iloc[1,1]=Matriz.iloc[1,1]+1\n",
    "        return \n",
    "    if (x['real']=='correta' and  x['predito']=='incorreta'):\n",
    "        Matriz.iloc[2,1]=Matriz.iloc[2,1]+1\n",
    "        return \n",
    "    if (x['real']=='sem' and  x['predito']=='correta'):\n",
    "        Matriz.iloc[0,2]=Matriz.iloc[0,2]+1 \n",
    "        return \n",
    "    if (x['real']=='incorreta' and  x['predito']=='correta'):\n",
    "        Matriz.iloc[1,2]=Matriz.iloc[1,2]+1\n",
    "        return \n",
    "    if (x['real']=='correta' and  x['predito']=='correta'):\n",
    "        Matriz.iloc[2,2]=Matriz.iloc[2,2]+1\n",
    "        return \n",
    "    \n",
    "# Matriz.iloc[0,0]=Matriz.iloc[0,0]+1    # sem_p e sem_r\n",
    "# Matriz.iloc[1,0]=Matriz.iloc[1,0]+1    # sem_p e incorreta_r\n",
    "# Matriz.iloc[2,0]=Matriz.iloc[2,0]+1    # sem_p e correta_r\n",
    "# Matriz.iloc[0,1]=Matriz.iloc[0,1]+1    # incorreta_p e sem_r\n",
    "# Matriz.iloc[1,1]=Matriz.iloc[1,1]+1    # incorreta_p e incorreta_r\n",
    "# Matriz.iloc[2,1]=Matriz.iloc[2,1]+1    # incorreta_p e correta_r\n",
    "# Matriz.iloc[0,2]=Matriz.iloc[0,2]+1    # correta_p e  sem_r\n",
    "# Matriz.iloc[1,2]=Matriz.iloc[1,2]+1   # correta_p e  incorreta_r\n",
    "# Matriz.iloc[2,2]=Matriz.iloc[2,2]+1   # correta_p e  correta_r"
   ]
  },
  {
   "cell_type": "code",
   "execution_count": null,
   "metadata": {},
   "outputs": [],
   "source": [
    "resultado_df.apply(compara, axis=1, Matriz=Matriz)"
   ]
  },
  {
   "cell_type": "code",
   "execution_count": null,
   "metadata": {},
   "outputs": [],
   "source": [
    "Matriz"
   ]
  },
  {
   "cell_type": "code",
   "execution_count": null,
   "metadata": {},
   "outputs": [],
   "source": [
    "def metricas(data_frame):  \n",
    "    A = data_frame.iloc[0,0]\n",
    "    B = data_frame.iloc[0,1]\n",
    "    C = data_frame.iloc[0,2]\n",
    "    D = data_frame.iloc[1,0]\n",
    "    E = data_frame.iloc[1,1] \n",
    "    F = data_frame.iloc[1,2]\n",
    "    G = data_frame.iloc[2,0]\n",
    "    H = data_frame.iloc[2,1]\n",
    "    I = data_frame.iloc[2,2]\n",
    "    total = A +B +C +D +E +F+ G+H+I\n",
    "    acuracia_total = (A+E+I)/total\n",
    "    acuracia_sem = (A +E+F+H+I)/total\n",
    "    acuracia_incorreta= (E+A+C+G+I)/total\n",
    "    acuracia_correta = (I+A+B+D+E)/total\n",
    "    print(\"acuracia_total: \" + str(acuracia_total))\n",
    "\n",
    "    #PRECISAO = VP/ (VP + FP)\n",
    "    precisao_sem = A/(A+D+ G)\n",
    "    precisao_incorreta = E/(E+B+H)\n",
    "    precisao_correta = I/(I+C+F)\n",
    "    print(\"precisao_sem: \" + str(precisao_sem))\n",
    "    print(\"precisao_incorreta : \" + str(precisao_incorreta))\n",
    "    print(\"precisao_correta: \" + str(precisao_correta))\n",
    "    \n",
    "    #REVOCAÇÃO = VP / (VP + FN)\n",
    "    revocacao_sem = A/(A+B+C)\n",
    "    revocacao_incorreta = E/(E+F+D)\n",
    "    revocacao_correta = I/(I+G+H)\n",
    "    print(\"revocacao_sem: \" + str(revocacao_sem))\n",
    "    print(\"revocacao_incorreta: \" + str(revocacao_incorreta))\n",
    "    print(\"revocacao_correta: \" + str(revocacao_correta))\n",
    "    \n",
    "    #REVOCAÇÃO = \n",
    "    f1_sem = (2*precisao_sem*revocacao_sem)/(precisao_sem + revocacao_sem)\n",
    "    f1_incorreta = (2*precisao_incorreta*revocacao_incorreta)/(precisao_incorreta + revocacao_incorreta)\n",
    "    f1_correta = (2*precisao_correta*revocacao_correta)/(precisao_correta+revocacao_correta)\n",
    "    print(\"f1_sem: \" + str(f1_sem))\n",
    "    print(\"f1_incorreta: \" + str(f1_incorreta))\n",
    "    print(\"f1_correta: \" + str(f1_correta))"
   ]
  },
  {
   "cell_type": "code",
   "execution_count": null,
   "metadata": {},
   "outputs": [],
   "source": []
  },
  {
   "cell_type": "code",
   "execution_count": null,
   "metadata": {},
   "outputs": [],
   "source": []
  }
 ],
 "metadata": {
  "kernelspec": {
   "display_name": "Python 3",
   "language": "python",
   "name": "python3"
  },
  "language_info": {
   "codemirror_mode": {
    "name": "ipython",
    "version": 3
   },
   "file_extension": ".py",
   "mimetype": "text/x-python",
   "name": "python",
   "nbconvert_exporter": "python",
   "pygments_lexer": "ipython3",
   "version": "3.8.5"
  }
 },
 "nbformat": 4,
 "nbformat_minor": 4
}
